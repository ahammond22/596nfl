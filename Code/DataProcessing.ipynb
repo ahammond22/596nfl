{
 "cells": [
  {
   "cell_type": "code",
   "execution_count": null,
   "id": "e61ed06c-8a35-44ef-a188-dc5f12f7cc6c",
   "metadata": {},
   "outputs": [],
   "source": [
    "import pandas as pd\n",
    "import numpy as np"
   ]
  },
  {
   "cell_type": "code",
   "execution_count": null,
   "id": "6db5b130-f5f6-4ecf-a5e6-d4dcb39aba09",
   "metadata": {},
   "outputs": [],
   "source": [
    "data_path  = \"596nfl/Data\""
   ]
  },
  {
   "cell_type": "code",
   "execution_count": null,
   "id": "2c3288b8-59ee-44cd-b28c-825266f3816a",
   "metadata": {},
   "outputs": [],
   "source": [
    "games = pd.read_csv(data_path + \"games.csv\")\n",
    "plays = pd.read_csv(data_path + \"plays.csv\")"
   ]
  }
 ],
 "metadata": {
  "kernelspec": {
   "display_name": "Python 3 (ipykernel)",
   "language": "python",
   "name": "python3"
  },
  "language_info": {
   "codemirror_mode": {
    "name": "ipython",
    "version": 3
   },
   "file_extension": ".py",
   "mimetype": "text/x-python",
   "name": "python",
   "nbconvert_exporter": "python",
   "pygments_lexer": "ipython3",
   "version": "3.11.9"
  }
 },
 "nbformat": 4,
 "nbformat_minor": 5
}
