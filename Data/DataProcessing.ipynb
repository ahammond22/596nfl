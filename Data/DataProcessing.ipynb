{
 "cells": [
  {
   "cell_type": "code",
   "execution_count": 3,
   "id": "d86242f6-6999-4d52-af0d-3f8acd9c0ce4",
   "metadata": {},
   "outputs": [
    {
     "name": "stdout",
     "output_type": "stream",
     "text": [
      "/home/jovyan/596nfl/Data\n"
     ]
    }
   ],
   "source": [
    "import pandas as pd\n",
    "import os\n",
    "import glob\n",
    "\n",
    "#non full path is being funky\n",
    "print(os.getcwd())"
   ]
  },
  {
   "cell_type": "code",
   "execution_count": 49,
   "id": "f240f45d-b72f-4aa3-96fa-0a8e9e046205",
   "metadata": {},
   "outputs": [],
   "source": [
    "#Reading in all data\n",
    "#tracking data 2 and 5 have something wonky happening with the file formatting, which is fixed by ignoring 'bad' lines and using python engine.\n",
    "\n",
    "games = pd.read_csv('/home/jovyan/596nfl/Data/games.csv')\n",
    "plays = pd.read_csv('/home/jovyan/596nfl/Data/plays.csv')\n",
    "players = pd.read_csv('/home/jovyan/596nfl/Data/players.csv')\n",
    "player_play = pd.read_csv('/home/jovyan/596nfl/Data/player_play.csv', low_memory=False)\n",
    "\n",
    "# Gets a list of all tracking_data files\n",
    "file_list = glob.glob('/home/jovyan/596nfl/Data/tracking_week_*.csv')\n",
    "dataframes = []\n",
    "trackSize = 0\n",
    "\n",
    "for file in file_list:\n",
    "    df = pd.read_csv(file, engine='python', on_bad_lines='skip')\n",
    "    filtered_df = df[df['event'].notna()]   # Filter out rows where 'event' is not NA\n",
    "    dataframes.append(filtered_df)\n",
    "    trackSize += df.shape[0]\n",
    "\n",
    "# Merge all the DataFrames into one\n",
    "merged_tracking_data = pd.concat(dataframes, ignore_index=True)\n",
    "\n",
    "# Save the merged DataFrame to a new file\n",
    "merged_tracking_data.to_csv('merged_tracking_data.csv', index=False)\n",
    "\n"
   ]
  },
  {
   "cell_type": "code",
   "execution_count": 50,
   "id": "13b7d08a-0a23-430b-a45e-cdd8f65fe9d2",
   "metadata": {},
   "outputs": [
    {
     "name": "stdout",
     "output_type": "stream",
     "text": [
      "1917409\n",
      "81734\n",
      "0.9573726836579989\n"
     ]
    }
   ],
   "source": [
    "#(from tracking) roughly 96% useless data removal yay\n",
    "print(trackSize)\n",
    "print(merged_tracking_data.shape[0])\n",
    "print(1 - merged_tracking_data.shape[0]/trackSize)"
   ]
  },
  {
   "cell_type": "code",
   "execution_count": 65,
   "id": "b4e44198-9c8d-4f28-b001-f0b1ce4015dc",
   "metadata": {},
   "outputs": [
    {
     "name": "stdout",
     "output_type": "stream",
     "text": [
      "38181\n",
      "36532\n"
     ]
    }
   ],
   "source": [
    "reduced_merged_tracking_data = merged_tracking_data[merged_tracking_data['frameType'] != \"AFTER_SNAP\"]   # Filter out rows where 'frameType' is AFTER_SNAP\n",
    "print(reduced_merged_tracking_data.shape[0])\n",
    "\n",
    "# These players? have no nflId when club == football, and while this does remove some it doesn't for other cells so I am confused\n",
    "reduced_merged_tracking_data = reduced_merged_tracking_data[reduced_merged_tracking_data['club'] != \"football\"]          \n",
    "print(reduced_merged_tracking_data.shape[0])\n",
    "\n",
    "\n",
    "\n",
    "#we don't need these i think\n",
    "columns_to_delete = ['s', 'a', 'jerseyNumber', 'displayName'] \n",
    "\n",
    "# Drop the columns\n",
    "reduced_merged_tracking_data = reduced_merged_tracking_data.drop(columns=columns_to_delete)\n",
    "\n",
    "\n",
    "\n",
    "\n",
    "# Save the updated DataFrame back to a CSV if needed\n",
    "reduced_merged_tracking_data.to_csv('reduced_merged_tracking_data.csv', index=False)\n",
    "\n",
    "\n",
    "\n",
    "# Get the value at row 67 and column 'club'\n",
    "# reduced_merged_tracking_data.loc[67, 'club']"
   ]
  },
  {
   "cell_type": "code",
   "execution_count": 52,
   "id": "4ef91f38-a7d0-44a0-8595-0fcac6a066a2",
   "metadata": {},
   "outputs": [],
   "source": [
    "\n",
    "\n",
    "\n",
    "# hi\n",
    "\n",
    "\n",
    "\n",
    "\n",
    "\n",
    "\n",
    "\n",
    "\n",
    "\n",
    "\n",
    "\n",
    "\n",
    "\n"
   ]
  },
  {
   "cell_type": "code",
   "execution_count": 42,
   "id": "c0121aca-284b-4b7b-ac31-9cadd27eec65",
   "metadata": {},
   "outputs": [
    {
     "name": "stdout",
     "output_type": "stream",
     "text": [
      "Shape of merged data: (183802, 106)\n",
      "Shape of merged data: (183802, 108)\n"
     ]
    }
   ],
   "source": [
    "# Merge the datasets on gameId\n",
    "merged_data = pd.merge(plays, games, on='gameId', how='inner')\n",
    "\n",
    "# Merge the tables on gameId and playId\n",
    "secondary_merged_data = pd.merge(merged_data, player_play, on=['gameId', 'playId'], how = 'inner')\n",
    "\n",
    "# Check the shape of the merged data to ensure it's correct\n",
    "print(f\"Shape of merged data: {secondary_merged_data.shape}\")\n",
    "\n",
    "tert_merged_data = pd.merge(secondary_merged_data, players[['nflId', 'displayName', 'position']], on='nflId', how='inner')\n",
    "\n",
    "print(f\"Shape of merged data: {tert_merged_data.shape}\")"
   ]
  },
  {
   "cell_type": "code",
   "execution_count": 45,
   "id": "0e1445c2-8153-4b00-9ad6-fdf21945a7b0",
   "metadata": {},
   "outputs": [
    {
     "name": "stdout",
     "output_type": "stream",
     "text": [
      "Shape of data after filtering: (56126, 108)\n"
     ]
    }
   ],
   "source": [
    "# Filter out rows where wasInitialPassRusher and defensiveCoverageAssignment are both NA\n",
    "filtered_data = tert_merged_data[\n",
    "    ~(tert_merged_data['wasInitialPassRusher'].isna() & tert_merged_data['pff_defensiveCoverageAssignment'].isna())\n",
    "]\n",
    "\n",
    "# Check the shape of the filtered data to ensure correctness\n",
    "print(f\"Shape of data after filtering: {filtered_data.shape}\")\n",
    "\n"
   ]
  },
  {
   "cell_type": "code",
   "execution_count": null,
   "id": "86b6f396-728e-4aa8-ad77-2251667952fc",
   "metadata": {},
   "outputs": [],
   "source": []
  }
 ],
 "metadata": {
  "kernelspec": {
   "display_name": "Python 3 (ipykernel)",
   "language": "python",
   "name": "python3"
  },
  "language_info": {
   "codemirror_mode": {
    "name": "ipython",
    "version": 3
   },
   "file_extension": ".py",
   "mimetype": "text/x-python",
   "name": "python",
   "nbconvert_exporter": "python",
   "pygments_lexer": "ipython3",
   "version": "3.11.9"
  }
 },
 "nbformat": 4,
 "nbformat_minor": 5
}
